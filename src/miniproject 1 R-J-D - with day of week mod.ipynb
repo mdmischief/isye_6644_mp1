{
 "cells": [
  {
   "cell_type": "code",
   "execution_count": 1,
   "metadata": {},
   "outputs": [],
   "source": [
    "import numpy as np\n",
    "import matplotlib.pyplot as plt\n",
    "import pandas as pd\n",
    "from scipy.stats import binom\n",
    "\n",
    "n_students = 21\n",
    "\n",
    "#\n",
    "# stu_array: Infected: bool, 0 = No, 1 = Yes\n",
    "#            Days infected: int, -1,0,1,2,3,4...\n",
    "\n",
    "stu_array = np.array([[1, 1]] + [[0, 0]]*(n_students - 1))\n",
    "infections = np.array([1]) # Array to track the number infected per day. Update upon a new infection.\n",
    "\n",
    "def sim_day(students, infects, day=0):\n",
    "    \"\"\"Simulates a day at school and the infections that may occur.\n",
    "        Given: students: stu_array of type np.array;\n",
    "                infects: number of students who've been infected of type int\n",
    "        Returns: students, infects\n",
    "    \"\"\"\n",
    "    p = 0.02\n",
    "\n",
    "    if day != 0 and (day+1) % 6 == 0:\n",
    "        #do nothing\n",
    "        # print(f'Day = {day}: 6 do nothing')\n",
    "        pass\n",
    "    elif day != 0 and (day+1) % 7 == 0:\n",
    "        #do nothing\n",
    "        # print(f'Day = {day}: 7 do nothing')\n",
    "        pass\n",
    "    else:\n",
    "        # print(f'Day = {day}: do the thing')\n",
    "        for stu in range(len(stu_array)):\n",
    "            if students[stu, 0] == 1 and students[stu,1] in range(1, 4): # Student has caught the flu and is contagious\n",
    "                for peer in range(len(students)):\n",
    "                    if students[peer, 0] == 0 and stu != peer: # Peer is suscetpible to flu except on weekends\n",
    "                        rand = np.random.uniform(0,1)\n",
    "                        if rand <= p: # Peer gets infected\n",
    "                            students[peer, 0] = 1\n",
    "                            infects += 1\n",
    "    return students, infects\n",
    "\n",
    "def episode():\n",
    "    \"\"\"One episode simulates the virus, beginning with Tommy, spreading in a classroom until the virus infects everyone\n",
    "     or no one is contagious.\n",
    "        Returns: infections - np array containing number infected by each day\"\"\"\n",
    "\n",
    "    stu_array = np.array([[1, 1]] + [[0, 0]] * (n_students - 1))\n",
    "    infections = np.zeros(63)  # Array to track the number infected by each day. Update upon a new infection.\n",
    "\n",
    "    # Simulate up to 63 contiguous days at a school\n",
    "    contagious = True # True if any stu_array[:, 1] in [1,4). Only Tommy (student 0) is contagious on day 1.\n",
    "    day = 0\n",
    "    infected = 1\n",
    "    while contagious: # Each loop sims 1 day\n",
    "        stu_array, new_infections = sim_day(stu_array, infections[-1])\n",
    "        infected += new_infections\n",
    "        infections[day] = infected\n",
    "\n",
    "        mask = stu_array[:, 0] == 1\n",
    "        stu_array[:, 1] = stu_array[:, 1] + mask\n",
    "\n",
    "        # Check if there's still any contagious students. If not, end sim\n",
    "        cont_mask = (stu_array[:, 1] >= 1) & (stu_array[:, 1] <= 3)\n",
    "        if not any(cont_mask):\n",
    "            contagious = False\n",
    "            infections[day:] = infections[day]\n",
    "        day += 1\n",
    "\n",
    "    return infections\n",
    "\n",
    "def save_table(df, title, name):\n",
    "    from pandas.plotting import table  # EDIT: see deprecation warnings below\n",
    "    ax = plt.subplot(111, frame_on=False)  # no visible frame\n",
    "    ax.set_title(title)\n",
    "    ax.xaxis.set_visible(False)  # hide the x axis\n",
    "    ax.yaxis.set_visible(False)  # hide the y axis\n",
    "    table(ax, df)  # where df is your data frame\n",
    "    plt.savefig(f'{name}.png')"
   ]
  },
  {
   "cell_type": "code",
   "execution_count": 2,
   "metadata": {},
   "outputs": [],
   "source": [
    "# Simulate many episodes\n",
    "eps = 10000 # Number of episodes to simulate\n",
    "day_results = np.zeros((eps, 63)) # Store number infected by each day for each episode\n",
    "episodes = 0\n",
    "np.random.seed(2**23 - 1)\n",
    "while episodes < eps: # Each loop sims 1 episode\n",
    "    day_results[episodes] = episode()\n",
    "    episodes += 1"
   ]
  },
  {
   "cell_type": "code",
   "execution_count": 3,
   "metadata": {},
   "outputs": [
    {
     "name": "stdout",
     "output_type": "stream",
     "text": [
      "Consider a pandemic complete if no infected students remain.\n",
      "Mean days pandemic lasted: 8.5084\n",
      "Median days pandemic lasted: 7.0\n"
     ]
    }
   ],
   "source": [
    "# Calculate and print stats\n",
    "\n",
    "# Average number of days epidemics lasted\n",
    "epidem_lens = np.argmax(day_results, axis=1) + 4 # Zero-index + 3 (number of days contagious) + 1\n",
    "print('Consider a pandemic complete if no infected students remain.')\n",
    "print('Mean days pandemic lasted:', epidem_lens.mean())\n",
    "from statistics import median\n",
    "print('Median days pandemic lasted:', median(epidem_lens))"
   ]
  },
  {
   "cell_type": "code",
   "execution_count": 4,
   "metadata": {},
   "outputs": [
    {
     "name": "stdout",
     "output_type": "stream",
     "text": [
      "Mean infections: 5.9568\n",
      "Median infections: 4.0\n"
     ]
    }
   ],
   "source": [
    "# Average number infected over all episodes\n",
    "print('Mean infections:', day_results[:, -1].mean())\n",
    "print('Median infections:', median(day_results[:, -1]))"
   ]
  },
  {
   "cell_type": "code",
   "execution_count": 5,
   "metadata": {},
   "outputs": [
    {
     "name": "stdout",
     "output_type": "stream",
     "text": [
      "    Day    Mean\n",
      "0     1  1.4139\n",
      "1     2  1.9524\n",
      "2     3  2.6649\n",
      "3     4  3.2122\n",
      "4     5  3.7537\n",
      "5     6  4.2433\n",
      "6     7  4.6492\n",
      "7     8  4.9897\n",
      "8     9  5.2484\n",
      "9    10  5.4496\n",
      "10   11  5.6032\n",
      "11   12  5.7147\n",
      "12   13  5.7954\n",
      "13   14  5.8545\n",
      "14   15  5.8908\n",
      "15   16  5.9164\n",
      "16   17  5.9302\n",
      "17   18  5.9402\n",
      "18   19  5.9472\n",
      "19   20  5.9508\n",
      "20   21  5.9527\n",
      "21   22  5.9542\n",
      "22   23  5.9550\n",
      "23   24  5.9555\n",
      "24   25  5.9560\n",
      "25   26  5.9562\n",
      "26   27  5.9562\n",
      "27   28  5.9564\n",
      "28   29  5.9565\n",
      "29   30  5.9566\n",
      "30   31  5.9567\n",
      "31   32  5.9568\n",
      "32   33  5.9568\n",
      "33   34  5.9568\n",
      "34   35  5.9568\n",
      "35   36  5.9568\n",
      "36   37  5.9568\n",
      "37   38  5.9568\n",
      "38   39  5.9568\n",
      "39   40  5.9568\n",
      "40   41  5.9568\n"
     ]
    }
   ],
   "source": [
    "# Expected value of infected by each day\n",
    "expected_values = day_results.mean(axis=0)\n",
    "n_days = 41\n",
    "expected_df = pd.DataFrame(list(range(1, n_days+1)), columns=[\"Day\"])\n",
    "expected_df['Mean'] = expected_values[:n_days]\n",
    "#save_table(expected_df, f'Expected Number of Infected Students Per Day\\nMonte Carlo with {eps} Simulations', 'day_means')\n",
    "#from IPython.display import display\n",
    "print(expected_df)"
   ]
  },
  {
   "cell_type": "code",
   "execution_count": 6,
   "metadata": {},
   "outputs": [
    {
     "name": "stdout",
     "output_type": "stream",
     "text": [
      "Expected value of students infected by day 2: 1.9409599999999987\n"
     ]
    }
   ],
   "source": [
    "# Part C - Day 2 Expected Value\n",
    "n = 20\n",
    "p = 0.02\n",
    "\n",
    "r_values = list(range(n + 1)) # Possible numbers infected on day 1\n",
    "dist1 = [binom.pmf(r, n, p) for r in r_values] # Day 1\n",
    "probs = np.zeros(20)\n",
    "for day1 in r_values:\n",
    "    p2 = p * (1 + day1)\n",
    "    dist2 = [binom.pmf(r, n-day1, p2) for r in r_values] # Day 2 given day 1\n",
    "    for x in range(len(dist2)):\n",
    "        total = x + day1\n",
    "        if total < 20:\n",
    "            probs[total] += dist1[day1] * dist2[x]\n",
    "\n",
    "\n",
    "mean2 = (np.arange(20).dot(probs))+1\n",
    "print('Expected value of students infected by day 2:', mean2)"
   ]
  },
  {
   "cell_type": "code",
   "execution_count": 7,
   "metadata": {},
   "outputs": [
    {
     "data": {
      "image/png": "[encoded data removed]",
      "text/plain": [
       "<Figure size 432x288 with 1 Axes>"
      ]
     },
     "metadata": {
      "needs_background": "light"
     },
     "output_type": "display_data"
    }
   ],
   "source": [
    "title = f'Histogram of First Two Days of Pandemic (Theoretical)\\n 10,000 Episodes. Mean = {round(mean2, 2)} days'\n",
    "plt.bar(x=np.arange(1, 21), height=probs, align='edge', width=1)\n",
    "plt.title(title)\n",
    "plt.xlim(left=1, right=9)\n",
    "plt.xlabel('Infections')\n",
    "plt.ylabel('Probability')\n",
    "plt.savefig('Flu_Pandemic_Fig2.png')\n",
    "plt.show()"
   ]
  },
  {
   "cell_type": "code",
   "execution_count": 8,
   "metadata": {},
   "outputs": [
    {
     "data": {
      "image/png": "[encoded data removed]",
      "text/plain": [
       "<Figure size 432x288 with 1 Axes>"
      ]
     },
     "metadata": {
      "needs_background": "light"
     },
     "output_type": "display_data"
    }
   ],
   "source": [
    "title = f'Histogram of First Two Days of Pandemic (Empirical)\\n 10,000 Episodes. Mean = {round(expected_values[1], 2)} days'\n",
    "plt.hist(day_results[:, 1], bins=range(1, 10))\n",
    "plt.title(title)\n",
    "plt.xlim(left=1, right=9)\n",
    "plt.xlabel('Infections')\n",
    "plt.ylabel('Probability')\n",
    "plt.savefig('Flu_Pandemic_Fig3.png')\n",
    "plt.show()"
   ]
  },
  {
   "cell_type": "code",
   "execution_count": 9,
   "metadata": {},
   "outputs": [
    {
     "data": {
      "image/png": "[encoded data removed]",
      "text/plain": [
       "<Figure size 432x288 with 1 Axes>"
      ]
     },
     "metadata": {
      "needs_background": "light"
     },
     "output_type": "display_data"
    }
   ],
   "source": [
    "# Part D - Histogram\n",
    "title = f'Histogram of Days the Epidemic Lasted\\n 10,000 Episodes. Mean = {round(epidem_lens.mean(), 2)} days, Median = {median(epidem_lens)} days'\n",
    "plt.hist(epidem_lens)\n",
    "plt.title(title)\n",
    "plt.xlabel('Days')\n",
    "plt.ylabel('Episodes')\n",
    "plt.savefig('Flu_Pandemic_Fig1.png')\n",
    "plt.show()"
   ]
  },
  {
   "cell_type": "code",
   "execution_count": 10,
   "metadata": {},
   "outputs": [
    {
     "data": {
      "image/png": "[encoded data removed]",
      "text/plain": [
       "<Figure size 432x288 with 1 Axes>"
      ]
     },
     "metadata": {
      "needs_background": "light"
     },
     "output_type": "display_data"
    }
   ],
   "source": [
    "title = f'Histogram of Days the Epidemic Lasted\\n 10,000 Episodes. Mean = {round(epidem_lens.mean(), 2)} days, Median = {median(epidem_lens)} days'\n",
    "plt.hist(epidem_lens, bins=range(min(epidem_lens), max(epidem_lens)+1, 1))\n",
    "plt.title(title)\n",
    "plt.xlabel('Days')\n",
    "plt.ylabel('Episodes')\n",
    "plt.savefig('Flu_Pandemic_Fig1-smallbins.png')\n",
    "plt.show()"
   ]
  },
  {
   "cell_type": "code",
   "execution_count": null,
   "metadata": {},
   "outputs": [],
   "source": []
  }
 ],
 "metadata": {
  "kernelspec": {
   "display_name": "Python 3",
   "language": "python",
   "name": "python3"
  },
  "language_info": {
   "codemirror_mode": {
    "name": "ipython",
    "version": 3
   },
   "file_extension": ".py",
   "mimetype": "text/x-python",
   "name": "python",
   "nbconvert_exporter": "python",
   "pygments_lexer": "ipython3",
   "version": "3.7.4"
  }
 },
 "nbformat": 4,
 "nbformat_minor": 2
}
